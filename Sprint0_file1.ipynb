{
 "cells": [
  {
   "cell_type": "code",
   "execution_count": 1,
   "id": "2ea0d282-1c8b-412c-a903-6bec05a0bd7e",
   "metadata": {},
   "outputs": [
    {
     "name": "stdout",
     "output_type": "stream",
     "text": [
      "Hello World\n"
     ]
    }
   ],
   "source": [
    "print(\"Hello World\")"
   ]
  },
  {
   "cell_type": "markdown",
   "id": "ca6edf8c-aa04-4131-8f1c-27e964393c40",
   "metadata": {},
   "source": [
    "# First notebook"
   ]
  },
  {
   "cell_type": "code",
   "execution_count": 6,
   "id": "d5cb3005-04ef-4281-b736-76e65c60de76",
   "metadata": {},
   "outputs": [
    {
     "data": {
      "text/plain": [
       "1.5"
      ]
     },
     "execution_count": 6,
     "metadata": {},
     "output_type": "execute_result"
    }
   ],
   "source": [
    "1-(-0.1*5)"
   ]
  },
  {
   "cell_type": "markdown",
   "id": "02a7aa04-5285-43a1-a5b8-07cd4f2b62c0",
   "metadata": {},
   "source": [
    "*Exemple de text pla en cursiva*  i **Text pla en negreta**"
   ]
  },
  {
   "cell_type": "markdown",
   "id": "eb79def2-053f-4a24-82f0-a281abc7ded5",
   "metadata": {},
   "source": [
    "## Tasques fetes avui\n",
    "\n",
    "* Instal.lar Python\n",
    "* Instal.lar Anaconda\n",
    "* Barallar-me amb jupyter notebook\n",
    "* Recuperar el password del GitHub\n",
    "\n",
    "### Lliurable 1\n",
    "\n",
    "1. Exercici 1\n",
    "2. ...\n",
    "3. Aquest notebook forma part del lliurable, doncs he de penjar-ho al repositori GitHub creat Projecte Machine Learning"
   ]
  },
  {
   "cell_type": "code",
   "execution_count": null,
   "id": "f25bf4c5-5a3b-44d9-8cc8-9d2b5a24c277",
   "metadata": {},
   "outputs": [],
   "source": []
  }
 ],
 "metadata": {
  "kernelspec": {
   "display_name": "Python 3 (ipykernel)",
   "language": "python",
   "name": "python3"
  },
  "language_info": {
   "codemirror_mode": {
    "name": "ipython",
    "version": 3
   },
   "file_extension": ".py",
   "mimetype": "text/x-python",
   "name": "python",
   "nbconvert_exporter": "python",
   "pygments_lexer": "ipython3",
   "version": "3.12.4"
  }
 },
 "nbformat": 4,
 "nbformat_minor": 5
}
