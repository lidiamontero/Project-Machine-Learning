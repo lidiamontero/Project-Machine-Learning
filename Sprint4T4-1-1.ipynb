{
 "cells": [
  {
   "cell_type": "markdown",
   "id": "d0bf49d6-94b1-46a8-8591-198850b3c22e",
   "metadata": {},
   "source": [
    "# Exercici 1. Consumir una API \n",
    "\n",
    "## Arxiu al github: https://github.com/lidiamontero/Project-Machine-Learning/blob/main/Sprint4T4-1-1.ipynb\n",
    "\n",
    "Trio consumir dades de l'IDESCAT. L'Idescat exposa part de les seves dades a través d'una col·lecció d'APIs de tipus REST. Les APIs de l'Idescat ofereixen mètodes perquè els programes de tercers puguin obtenir informació de l'Institut d'Estadística de Catalunya i integrar-la en altres serveis. "
   ]
  },
  {
   "cell_type": "markdown",
   "id": "bb8a20b3-cb5c-4cd4-bd43-75d8174c4010",
   "metadata": {},
   "source": [
    "## Import all required packages"
   ]
  },
  {
   "cell_type": "code",
   "execution_count": 1,
   "id": "52bc653b-c45a-4e10-bb06-0555d2f3713c",
   "metadata": {},
   "outputs": [],
   "source": [
    "import requests\n",
    "import pandas as pd\n",
    "import io"
   ]
  },
  {
   "cell_type": "markdown",
   "id": "3ae5596c-dbab-437a-98ae-e182b9158b68",
   "metadata": {},
   "source": [
    "Replico l'exemple dels apunts del curs sobre el consum d'una API gratuïta que és jsonplaceholder"
   ]
  },
  {
   "cell_type": "code",
   "execution_count": 3,
   "id": "f75c3c99-706d-40da-b17c-b0a7bca011e6",
   "metadata": {},
   "outputs": [
    {
     "name": "stdout",
     "output_type": "stream",
     "text": [
      "Petició exitosa\n",
      "Data: {'id': 1, 'name': 'Leanne Graham', 'username': 'Bret', 'email': 'Sincere@april.biz', 'address': {'street': 'Kulas Light', 'suite': 'Apt. 556', 'city': 'Gwenborough', 'zipcode': '92998-3874', 'geo': {'lat': '-37.3159', 'lng': '81.1496'}}, 'phone': '1-770-736-8031 x56442', 'website': 'hildegard.org', 'company': {'name': 'Romaguera-Crona', 'catchPhrase': 'Multi-layered client-server neural-net', 'bs': 'harness real-time e-markets'}}\n"
     ]
    }
   ],
   "source": [
    "URL = \"https://jsonplaceholder.typicode.com/users/1\"\n",
    "response = requests.get(URL)\n",
    "if response.status_code == 200:\n",
    "    print('Petició exitosa')\n",
    "    print('Data:', response.json())\n",
    "else:\n",
    "    print('Error en la petició, detalls:', response.text)"
   ]
  },
  {
   "cell_type": "raw",
   "id": "f847a4ba-d5ed-4fbb-ba96-330affc3baf9",
   "metadata": {},
   "source": [
    "## Consum dades IDESCAT\n",
    "\n",
    "Defineixo “urlData”, on recollir les dades de l'API IDESCAT usant get() de la llibreria Python Requests:\n",
    "\n",
    "https://api.idescat.cat/{servei}/v{versió principal}/{operació}.{format}[?paràmetres]\n",
    "\n",
    "Tota petició ha d'especificar obligatòriament el servei, la versió, l'operació i el format. Versió i operació són característiques específiques de cada servei.\n",
    "\n",
    "M'interessa consumir dades de l'indicador població per províncies de Catalunya, entenc que retorna en format json\n"
   ]
  },
  {
   "cell_type": "code",
   "execution_count": 73,
   "id": "d6147c1f-1057-4f4b-bbd6-15e2a23c821f",
   "metadata": {},
   "outputs": [],
   "source": [
    "urlData = requests.get(\"https://api.idescat.cat/taules/v2/censph/16400/19880/prov/data\")"
   ]
  },
  {
   "cell_type": "code",
   "execution_count": 75,
   "id": "3745ae2e-496a-4cc3-9fb6-3efee56d5988",
   "metadata": {},
   "outputs": [
    {
     "name": "stdout",
     "output_type": "stream",
     "text": [
      "Petició exitosa\n"
     ]
    }
   ],
   "source": [
    "if urlData.status_code == 200:\n",
    "    print('Petició exitosa')\n",
    "else:\n",
    "    print('Error en la petició, detalls:', urlData.text)"
   ]
  },
  {
   "cell_type": "code",
   "execution_count": 114,
   "id": "079049bf-5f4d-4b83-9264-4e1d2c4adc95",
   "metadata": {
    "scrolled": true
   },
   "outputs": [
    {
     "name": "stdout",
     "output_type": "stream",
     "text": [
      "La URL https://api.idescat.cat/taules/v2/censph/16400/19880/prov/data\n",
      "Capçaleres {'Date': 'Tue, 08 Oct 2024 18:12:15 GMT', 'Server': 'Apache/2.4.6 (Red Hat Enterprise Linux)', 'Access-Control-Allow-Origin': '*', 'Access-Control-Allow-Methods': 'GET, POST', 'Connection': 'close', 'Transfer-Encoding': 'chunked', 'Content-Type': 'application/json;charset=utf-8'}\n",
      "Elements del diccionari ('version', '2.0')\n",
      "Elements del diccionari ('class', 'dataset')\n",
      "Elements del diccionari ('href', 'https://api.idescat.cat/taules/v2/censph/16400/19880/prov/data')\n",
      "Elements del diccionari ('link', {'describedby': [{'class': 'dataset', 'href': 'https://api.idescat.cat/taules/v2/censph/16400/19880/prov', 'label': \"Indicadors d'edat i sexe. Províncies\"}], 'monitor': [{'type': 'application/json', 'href': 'https://api.idescat.cat/rectificacions/v1/rectificacions/cerca.json?id=512'}], 'related': [{'class': 'dataset', 'href': 'https://api.idescat.cat/taules/v2/censph/16400/19880/cat', 'label': \"Indicadors d'edat i sexe. Catalunya\"}, {'class': 'dataset', 'href': 'https://api.idescat.cat/taules/v2/censph/16400/19880/at', 'label': \"Indicadors d'edat i sexe. Àmbits del Pla territorial\"}, {'class': 'dataset', 'href': 'https://api.idescat.cat/taules/v2/censph/16400/19880/com', 'label': \"Indicadors d'edat i sexe. Comarques i Aran\"}, {'class': 'dataset', 'href': 'https://api.idescat.cat/taules/v2/censph/16400/19880/mun', 'label': \"Indicadors d'edat i sexe. Municipis\"}, {'class': 'dataset', 'href': 'https://api.idescat.cat/taules/v2/censph/16400/19880/ac', 'label': \"Indicadors d'edat i sexe. Per agrupacions censals\"}, {'class': 'dataset', 'href': 'https://api.idescat.cat/taules/v2/censph/16400/19880/dis', 'label': \"Indicadors d'edat i sexe. Districtes censals\"}, {'class': 'dataset', 'href': 'https://api.idescat.cat/taules/v2/censph/16400/19880/sec', 'label': \"Indicadors d'edat i sexe. Seccions censals\"}]})\n",
      "Elements del diccionari ('label', \"Indicadors d'edat i sexe. Províncies\")\n",
      "Elements del diccionari ('source', \"2021: Idescat, a partir del Cens de població i habitatges de l'INE. 2022-2023: Idescat, a partir del Cens de població anual de l'INE.\")\n",
      "Elements del diccionari ('updated', '2024-02-29')\n",
      "Elements del diccionari ('id', ['YEAR', 'PROV', 'CONCEPT', 'SEX'])\n",
      "Elements del diccionari ('size', [3, 5, 6, 3])\n",
      "Elements del diccionari ('role', {'geo': ['PROV'], 'metric': ['CONCEPT'], 'time': ['YEAR']})\n",
      "Elements del diccionari ('dimension', {'YEAR': {'category': {'index': ['2021', '2022', '2023'], 'label': {'2021': '2021', '2022': '2022', '2023': '2023'}}, 'label': 'any'}, 'PROV': {'category': {'index': ['08', '17', '25', '43', 'TOTAL'], 'label': {'08': 'Barcelona', '17': 'Girona', '25': 'Lleida', '43': 'Tarragona', 'TOTAL': 'Catalunya'}}, 'label': 'província'}, 'CONCEPT': {'category': {'index': ['POP_P', 'PP_Y00_15', 'OPP_Y16_64', 'PP_Y_GE65', 'AGE_MEAN', 'AGE_MED'], 'label': {'POP_P': 'proporció sobre la població (%)', 'PP_Y00_15': 'proporció de població de 0 a 15 anys (%)', 'OPP_Y16_64': 'proporció de població de 16 a 64 anys (%)', 'PP_Y_GE65': 'proporció de població de 65 anys o més (%)', 'AGE_MEAN': 'edat mitjana', 'AGE_MED': 'edat mediana'}, 'unit': {'POP_P': {'decimals': 2}, 'PP_Y00_15': {'decimals': 2}, 'OPP_Y16_64': {'decimals': 2}, 'PP_Y_GE65': {'decimals': 2}, 'AGE_MEAN': {'decimals': 2}, 'AGE_MED': {'decimals': 1}}}, 'label': 'concepte'}, 'SEX': {'category': {'index': ['M', 'F', 'TOTAL'], 'label': {'M': 'homes', 'F': 'dones', 'TOTAL': 'total'}}, 'label': 'sexe'}})\n",
      "Elements del diccionari ('value', [48.86, 51.14, 100.0, 16.47, 14.82, 15.63, 67, 63.65, 65.29, 16.52, 21.53, 19.08, 41.66, 44.55, 43.14, 42.5, 44.9, 43.7, 50.11, 49.89, 100.0, 17.17, 16.24, 16.71, 66.45, 63.62, 65.04, 16.38, 20.14, 18.26, 41.44, 43.51, 42.47, 42.6, 44, 43.3, 51, 49, 100.0, 15.94, 15.7, 15.82, 67.03, 62.24, 64.68, 17.03, 22.05, 19.49, 42.44, 44.73, 43.56, 43.5, 45.3, 44.3, 49.98, 50.02, 100.0, 16.96, 15.89, 16.43, 65.71, 62.95, 64.33, 17.33, 21.16, 19.24, 42.03, 44.14, 43.08, 43.2, 44.8, 44, 49.22, 50.78, 100.0, 16.57, 15.12, 15.83, 66.81, 63.5, 65.13, 16.63, 21.38, 19.04, 41.73, 44.41, 43.09, 42.7, 44.8, 43.7, 48.84, 51.16, 100.0, 16.18, 14.55, 15.34, 67.06, 63.64, 65.31, 16.76, 21.81, 19.34, 41.91, 44.79, 43.38, 42.9, 45.3, 44.1, 50.13, 49.87, 100.0, 16.87, 15.99, 16.43, 66.46, 63.55, 65.01, 16.67, 20.46, 18.56, 41.7, 43.77, 42.73, 43, 44.4, 43.7, 51.06, 48.94, 100.0, 15.77, 15.5, 15.64, 67.03, 62.26, 64.7, 17.2, 22.24, 19.66, 42.6, 44.9, 43.73, 43.9, 45.6, 44.7, 49.96, 50.04, 100.0, 16.7, 15.66, 16.18, 65.73, 62.86, 64.29, 17.57, 21.48, 19.52, 42.26, 44.38, 43.32, 43.7, 45.2, 44.4, 49.22, 50.78, 100.0, 16.28, 14.86, 15.56, 66.85, 63.48, 65.14, 16.87, 21.66, 19.3, 41.97, 44.65, 43.33, 43.1, 45.3, 44.1, 48.82, 51.18, 100.0, 15.83, 14.21, 15, 67.37, 63.95, 65.62, 16.8, 21.84, 19.38, 41.96, 44.84, 43.44, 42.9, 45.5, 44.2, 50.04, 49.96, 100.0, 16.67, 15.74, 16.2, 66.55, 63.74, 65.15, 16.78, 20.52, 18.65, 41.74, 43.81, 42.77, 43, 44.6, 43.8, 51.09, 48.91, 100.0, 15.55, 15.3, 15.43, 67.16, 62.46, 64.86, 17.28, 22.24, 19.71, 42.64, 44.95, 43.77, 44, 45.8, 44.8, 49.93, 50.07, 100.0, 16.35, 15.37, 15.86, 65.94, 63.07, 64.5, 17.71, 21.57, 19.64, 42.37, 44.49, 43.43, 43.9, 45.4, 44.6, 49.19, 50.81, 100.0, 15.96, 14.54, 15.24, 67.12, 63.75, 65.41, 16.92, 21.7, 19.35, 42.02, 44.71, 43.39, 43.1, 45.4, 44.3])\n",
      "Elements del diccionari ('extension', {'source': [\"2021: Idescat, a partir del Cens de població i habitatges de l'INE.\", \"2022-2023: Idescat, a partir del Cens de població anual de l'INE.\"]})\n"
     ]
    }
   ],
   "source": [
    "print('La URL', urlData.url)\n",
    "print('Capçaleres', urlData.headers)\n",
    "#print('Dades:', urlData.content)\n",
    "\n",
    "rawData = urlData.json()\n",
    "type(rawData) # dict\n",
    "#print('Dades:', rawData)\n",
    "for i in rawData.items():\n",
    "    print('Elements del diccionari',i)"
   ]
  },
  {
   "cell_type": "markdown",
   "id": "b7e35d07-0a59-4586-a2ef-cdcfa34e84fa",
   "metadata": {},
   "source": [
    "**No progresso, no sé quins són els mètodes que puc aplicar per transformar el que retornada, no entenc el model de dades. Estic perduda.**"
   ]
  },
  {
   "cell_type": "code",
   "execution_count": null,
   "id": "3597632c-1120-4b09-a76c-b50725c8dd4a",
   "metadata": {},
   "outputs": [],
   "source": []
  }
 ],
 "metadata": {
  "kernelspec": {
   "display_name": "Python 3 (ipykernel)",
   "language": "python",
   "name": "python3"
  },
  "language_info": {
   "codemirror_mode": {
    "name": "ipython",
    "version": 3
   },
   "file_extension": ".py",
   "mimetype": "text/x-python",
   "name": "python",
   "nbconvert_exporter": "python",
   "pygments_lexer": "ipython3",
   "version": "3.12.4"
  }
 },
 "nbformat": 4,
 "nbformat_minor": 5
}
